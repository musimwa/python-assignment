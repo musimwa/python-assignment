{
 "cells": [
  {
   "cell_type": "markdown",
   "metadata": {},
   "source": [
    "# BCB-546X PYTHON_ASSIGNMENT\n",
    "\n",
    "### Tatenda Musimwa"
   ]
  },
  {
   "cell_type": "code",
   "execution_count": 1,
   "metadata": {},
   "outputs": [],
   "source": [
    "from Bio import SeqIO\n",
    "from Bio.Data import CodonTable\n",
    "import pandas as pd\n",
    "from Bio import SeqIO\n",
    "from Bio.Data import CodonTable\n",
    "from Bio.Alphabet import SingleLetterAlphabet\n",
    "from Bio.Seq import Seq\n",
    "from Bio.SeqUtils.ProtParam import ProteinAnalysis\n",
    "from Bio.SeqUtils import GC\n",
    "from Bio.SeqUtils import molecular_weight\n",
    "from Bio.Alphabet import IUPAC\n"
   ]
  },
  {
   "cell_type": "code",
   "execution_count": null,
   "metadata": {},
   "outputs": [],
   "source": [
    "import numpy as np\n",
    "import matplotlib.pyplot as plt\n",
    "import matplotlib\n",
    "import argparse\n",
    "%matplotlib inline\n",
    "import urllib.request\n",
    "from Bio.SeqUtils import MeltingTemp as mt\n",
    "import seaborn as sns"
   ]
  },
  {
   "cell_type": "markdown",
   "metadata": {},
   "source": [
    "## 1 ##\n",
    "Dr. X: this gets sequences  \n",
    "Please finish documenting this function with comments, or in notebook markdown text  \n",
    "Your descriptions of all functions should contain information about what the function does,  \n",
    "as well as information about the return types and arguments."
   ]
  },
  {
   "cell_type": "code",
   "execution_count": null,
   "metadata": {},
   "outputs": [],
   "source": [
    "def get_sequences_from_file(fasta_fn):#defines the function which takes a fasta file as an input file \n",
    "    sequence_data_dict = {} #we are defining the dictionary here. This creates an empty variable\n",
    "    for record in SeqIO.parse(fasta_fn, \"fasta\"):#This a loop with a function, in this case SeqIO.parse(). It reads records one by one\n",
    "        description = record.description.split()# splits output from the defined function and stores it in the defined variable\n",
    "        species_name = description[1] + \" \" + description[2]#Creates species names by joining description 1 and 2\n",
    "        sequence_data_dict[species_name] = record.seq # within a dictionary we have assigned species_name to record.seq. This appends the empty variable with sequences from the previous step\n",
    "    return(sequence_data_dict)#returns a dictionary with species_name as key and sequences"
   ]
  },
  {
   "cell_type": "markdown",
   "metadata": {},
   "source": [
    "Reading data"
   ]
  },
  {
   "cell_type": "code",
   "execution_count": null,
   "metadata": {},
   "outputs": [],
   "source": [
    "cytb_seqs = get_sequences_from_file(\"bears_cytb.fasta\")#Reading in the data\n"
   ]
  },
  {
   "cell_type": "markdown",
   "metadata": {},
   "source": [
    "# 2.\n",
    "#### Translating a string of given nucleotides to AA"
   ]
  },
  {
   "cell_type": "code",
   "execution_count": null,
   "metadata": {},
   "outputs": [],
   "source": [
    "def function_translate(nucleotide):# fefines the function that changes the original DNA sequence into aa\n",
    "    aa = ''\n",
    "    mito_table = CodonTable.unambiguous_dna_by_name[\"Vertebrate Mitochondrial\"]  # creates j table for codon \n",
    "    for i in range(0,len(nucleotide),3): # for loop through every 3rd position\n",
    "        j = nucleotide[i:i+3]\n",
    "        if j in mito_table.stop_codons: # do nothing if there is stop codon\n",
    "            pass\n",
    "        else :\n",
    "            aa = aa + mito_table.forward_table[j]   # add amino acid to codon called j\n",
    "    return aa\n"
   ]
  },
  {
   "cell_type": "code",
   "execution_count": 6,
   "metadata": {},
   "outputs": [],
   "source": [
    "Ursus_arctos = str(cytb_seqs['Ursus arctos'])"
   ]
  },
  {
   "cell_type": "code",
   "execution_count": 7,
   "metadata": {},
   "outputs": [
    {
     "data": {
      "text/plain": [
       "'MTNIRKTHPLAKIINNSLIDLPTPSNISAWWNFGSLLGVCLILQILTGLFLAMHYTPDTTTAFSSVTHICRDVHYGWVIRYVHANGASIFFICLFMHVGRGLYYGSYLFSETWNIGIILLFTIMATAFMGYVLPWGQMSFWGATVITNLLSAIPYIGTDLVEWIWGGFSVDKATLTRFFAFHFILPFIILALAAVHLLFLHETGSNNPSGIPSDSDKIPFHPYYTIKDILGALLLALTLATLVLFSPDLLGDPDNYTPANPLSTPPHIKPEWYFLFAYAILRSIPNKLGGVLALIFSILILAIIPLLHTSKQRGMMFRPLSQCLFWLLVADLLTLTWIGGQPVEHPFIIIGQLASILYFTILLVLMPIAGIIENNLLKW'"
      ]
     },
     "execution_count": 7,
     "metadata": {},
     "output_type": "execute_result"
    }
   ],
   "source": [
    "function_translate(Ursus_arctos)"
   ]
  },
  {
   "cell_type": "code",
   "execution_count": 8,
   "metadata": {},
   "outputs": [],
   "source": [
    "mito_table = CodonTable.unambiguous_dna_by_name[\"Vertebrate Mitochondrial\"]"
   ]
  },
  {
   "cell_type": "code",
   "execution_count": 9,
   "metadata": {},
   "outputs": [
    {
     "data": {
      "text/plain": [
       "['ATT', 'ATC', 'ATA', 'ATG', 'GTG']"
      ]
     },
     "execution_count": 9,
     "metadata": {},
     "output_type": "execute_result"
    }
   ],
   "source": [
    "mito_table.start_codons#start codons"
   ]
  },
  {
   "cell_type": "code",
   "execution_count": 10,
   "metadata": {},
   "outputs": [
    {
     "data": {
      "text/plain": [
       "['TAA', 'TAG', 'AGA', 'AGG']"
      ]
     },
     "execution_count": 10,
     "metadata": {},
     "output_type": "execute_result"
    }
   ],
   "source": [
    "mito_table.stop_codons#printing the stop codons"
   ]
  },
  {
   "cell_type": "markdown",
   "metadata": {},
   "source": [
    "## 3 ##\n",
    "###### YOUR ALTERNATIVE FUNCTION ########\n",
    "Is there a better way to write the translation function? (Hint: yes there is.)  \n",
    "Perhaps using available BioPython library utilities?  \n",
    "Please also write this function."
   ]
  },
  {
   "cell_type": "code",
   "execution_count": 11,
   "metadata": {},
   "outputs": [],
   "source": [
    "def translate_dna(sequence):#3\n",
    "    'function converts DNA sequence to amino acids while leaving the stop codons using biopython' # using this link biopython.org/wiki/Seq to develop my function \n",
    "    dna_seq = Seq(sequence)\n",
    "    protein_seq = dna_seq.translate(table = 2, to_stop = True)\n",
    "    return protein_seq"
   ]
  },
  {
   "cell_type": "code",
   "execution_count": 12,
   "metadata": {},
   "outputs": [
    {
     "data": {
      "text/plain": [
       "'MTNIRKTHPLAKIINNSLIDLPTPSNISAWWNFGSLLGVCLILQILTGLFLAMHYTPDTTTAFSSVTHICRDVHYGWVIRYVHANGASIFFICLFMHVGRGLYYGSYLFSETWNIGIILLFTIMATAFMGYVLPWGQMSFWGATVITNLLSAIPYIGTDLVEWIWGGFSVDKATLTRFFAFHFILPFIILALAAVHLLFLHETGSNNPSGIPSDSDKIPFHPYYTIKDILGALLLALTLATLVLFSPDLLGDPDNYTPANPLSTPPHIKPEWYFLFAYAILRSIPNKLGGVLALIFSILILAIIPLLHTSKQRGMMFRPLSQCLFWLLVADLLTLTWIGGQPVEHPFIIIGQLASILYFTILLVLMPIAGIIENNLLKW'"
      ]
     },
     "execution_count": 12,
     "metadata": {},
     "output_type": "execute_result"
    }
   ],
   "source": [
    "str(translate_dna(Ursus_arctos)) # test if the function is working"
   ]
  },
  {
   "cell_type": "code",
   "execution_count": 13,
   "metadata": {},
   "outputs": [
    {
     "data": {
      "text/plain": [
       "True"
      ]
     },
     "execution_count": 13,
     "metadata": {},
     "output_type": "execute_result"
    }
   ],
   "source": [
    "str(function_translate(Ursus_arctos)) == str(translate_dna(Ursus_arctos))"
   ]
  },
  {
   "cell_type": "markdown",
   "metadata": {},
   "source": [
    "## 4 ##\n",
    "###### YOUR COUNT AA ANALYSIS FUNCTION ########\n",
    "Write a function that calculates the molecular weight of each amino acid sequence.  "
   ]
  },
  {
   "cell_type": "code",
   "execution_count": 14,
   "metadata": {},
   "outputs": [],
   "source": [
    "def compute_molecular_weight(aa_seq): #Funtion takes a bulit in biopython sequence\n",
    "    analysed_seq = ProteinAnalysis(aa_seq)\n",
    "    weight = analysed_seq.molecular_weight()#Molecular weight calculation\n",
    "    return(weight)"
   ]
  },
  {
   "cell_type": "code",
   "execution_count": 15,
   "metadata": {},
   "outputs": [
    {
     "data": {
      "text/plain": [
       "98902.43750000185"
      ]
     },
     "execution_count": 15,
     "metadata": {},
     "output_type": "execute_result"
    }
   ],
   "source": [
    "compute_molecular_weight(Ursus_arctos) #validating the function"
   ]
  },
  {
   "cell_type": "markdown",
   "metadata": {},
   "source": [
    "## 5 ##\n",
    "###### YOUR GC CONTENT ANALYSIS FUNCTION ########\n",
    "Write a function that calculates the GC-content (proportion of \"G\" and \"C\") of each DNA sequence and returns this value."
   ]
  },
  {
   "cell_type": "code",
   "execution_count": 16,
   "metadata": {},
   "outputs": [],
   "source": [
    "def gc_content(sequence):\n",
    "    'function that calculates the GC-content (proportion of \"G\" and \"C\") of each DNA sequence'\n",
    "    nbases = sequence.count('n')+sequence.count('N') # Count 'N' or 'n' if available \n",
    "    gc_percent = float(sequence.count('C')+sequence.count('G'))*100.0/(len(sequence)-nbases) # remove N or n from GC ount\n",
    "    return gc_percent"
   ]
  },
  {
   "cell_type": "code",
   "execution_count": 17,
   "metadata": {},
   "outputs": [
    {
     "data": {
      "text/plain": [
       "43.771929824561404"
      ]
     },
     "execution_count": 17,
     "metadata": {},
     "output_type": "execute_result"
    }
   ],
   "source": [
    "gc_content(Ursus_arctos) # validating the function"
   ]
  },
  {
   "cell_type": "markdown",
   "metadata": {},
   "source": [
    "# Main #"
   ]
  },
  {
   "cell_type": "code",
   "execution_count": 18,
   "metadata": {},
   "outputs": [],
   "source": [
    "#importing files\n",
    "cytb_seqs = get_sequences_from_file(\"bears_cytb.fasta\") \n",
    "bears_df = pd.read_csv(\"bears_mass.csv\") # Includes only data for body mass \n",
    "species_list = list(bears_df.species)"
   ]
  },
  {
   "cell_type": "markdown",
   "metadata": {},
   "source": [
    "## 6 ##\n",
    "###### Add two new columns to the bears DataFrame: (1) molecular weight and (2) GC content. \n",
    "Set the value to 'NaN' to indicate that these cells are currently empty."
   ]
  },
  {
   "cell_type": "code",
   "execution_count": 19,
   "metadata": {},
   "outputs": [
    {
     "data": {
      "text/html": [
       "<div>\n",
       "<style scoped>\n",
       "    .dataframe tbody tr th:only-of-type {\n",
       "        vertical-align: middle;\n",
       "    }\n",
       "\n",
       "    .dataframe tbody tr th {\n",
       "        vertical-align: top;\n",
       "    }\n",
       "\n",
       "    .dataframe thead th {\n",
       "        text-align: right;\n",
       "    }\n",
       "</style>\n",
       "<table border=\"1\" class=\"dataframe\">\n",
       "  <thead>\n",
       "    <tr style=\"text-align: right;\">\n",
       "      <th></th>\n",
       "      <th>species</th>\n",
       "      <th>mass</th>\n",
       "    </tr>\n",
       "  </thead>\n",
       "  <tbody>\n",
       "    <tr>\n",
       "      <th>0</th>\n",
       "      <td>Ursus spelaeus</td>\n",
       "      <td>550.800</td>\n",
       "    </tr>\n",
       "    <tr>\n",
       "      <th>1</th>\n",
       "      <td>Ursus arctos</td>\n",
       "      <td>203.500</td>\n",
       "    </tr>\n",
       "    <tr>\n",
       "      <th>2</th>\n",
       "      <td>Ursus thibetanus</td>\n",
       "      <td>99.714</td>\n",
       "    </tr>\n",
       "    <tr>\n",
       "      <th>3</th>\n",
       "      <td>Melursus ursinus</td>\n",
       "      <td>100.030</td>\n",
       "    </tr>\n",
       "    <tr>\n",
       "      <th>4</th>\n",
       "      <td>Ursus americanus</td>\n",
       "      <td>110.560</td>\n",
       "    </tr>\n",
       "    <tr>\n",
       "      <th>5</th>\n",
       "      <td>Helarctos malayanus</td>\n",
       "      <td>47.020</td>\n",
       "    </tr>\n",
       "    <tr>\n",
       "      <th>6</th>\n",
       "      <td>Ailuropoda melanoleuca</td>\n",
       "      <td>118.200</td>\n",
       "    </tr>\n",
       "    <tr>\n",
       "      <th>7</th>\n",
       "      <td>Tremarctos ornatus</td>\n",
       "      <td>140.700</td>\n",
       "    </tr>\n",
       "    <tr>\n",
       "      <th>8</th>\n",
       "      <td>Ursus maritimus</td>\n",
       "      <td>425.100</td>\n",
       "    </tr>\n",
       "  </tbody>\n",
       "</table>\n",
       "</div>"
      ],
      "text/plain": [
       "                  species     mass\n",
       "0          Ursus spelaeus  550.800\n",
       "1            Ursus arctos  203.500\n",
       "2        Ursus thibetanus   99.714\n",
       "3        Melursus ursinus  100.030\n",
       "4        Ursus americanus  110.560\n",
       "5     Helarctos malayanus   47.020\n",
       "6  Ailuropoda melanoleuca  118.200\n",
       "7      Tremarctos ornatus  140.700\n",
       "8         Ursus maritimus  425.100"
      ]
     },
     "execution_count": 19,
     "metadata": {},
     "output_type": "execute_result"
    }
   ],
   "source": [
    "bears_df = pd.read_csv(\"bears_mass.csv\")\n",
    "bears_df"
   ]
  },
  {
   "cell_type": "code",
   "execution_count": 20,
   "metadata": {},
   "outputs": [
    {
     "data": {
      "text/html": [
       "<div>\n",
       "<style scoped>\n",
       "    .dataframe tbody tr th:only-of-type {\n",
       "        vertical-align: middle;\n",
       "    }\n",
       "\n",
       "    .dataframe tbody tr th {\n",
       "        vertical-align: top;\n",
       "    }\n",
       "\n",
       "    .dataframe thead th {\n",
       "        text-align: right;\n",
       "    }\n",
       "</style>\n",
       "<table border=\"1\" class=\"dataframe\">\n",
       "  <thead>\n",
       "    <tr style=\"text-align: right;\">\n",
       "      <th></th>\n",
       "      <th>species</th>\n",
       "      <th>mass</th>\n",
       "      <th>molecular_weight</th>\n",
       "      <th>GC</th>\n",
       "    </tr>\n",
       "  </thead>\n",
       "  <tbody>\n",
       "    <tr>\n",
       "      <th>0</th>\n",
       "      <td>Ursus spelaeus</td>\n",
       "      <td>550.800</td>\n",
       "      <td>NaN</td>\n",
       "      <td>NaN</td>\n",
       "    </tr>\n",
       "    <tr>\n",
       "      <th>1</th>\n",
       "      <td>Ursus arctos</td>\n",
       "      <td>203.500</td>\n",
       "      <td>NaN</td>\n",
       "      <td>NaN</td>\n",
       "    </tr>\n",
       "    <tr>\n",
       "      <th>2</th>\n",
       "      <td>Ursus thibetanus</td>\n",
       "      <td>99.714</td>\n",
       "      <td>NaN</td>\n",
       "      <td>NaN</td>\n",
       "    </tr>\n",
       "    <tr>\n",
       "      <th>3</th>\n",
       "      <td>Melursus ursinus</td>\n",
       "      <td>100.030</td>\n",
       "      <td>NaN</td>\n",
       "      <td>NaN</td>\n",
       "    </tr>\n",
       "    <tr>\n",
       "      <th>4</th>\n",
       "      <td>Ursus americanus</td>\n",
       "      <td>110.560</td>\n",
       "      <td>NaN</td>\n",
       "      <td>NaN</td>\n",
       "    </tr>\n",
       "    <tr>\n",
       "      <th>5</th>\n",
       "      <td>Helarctos malayanus</td>\n",
       "      <td>47.020</td>\n",
       "      <td>NaN</td>\n",
       "      <td>NaN</td>\n",
       "    </tr>\n",
       "    <tr>\n",
       "      <th>6</th>\n",
       "      <td>Ailuropoda melanoleuca</td>\n",
       "      <td>118.200</td>\n",
       "      <td>NaN</td>\n",
       "      <td>NaN</td>\n",
       "    </tr>\n",
       "    <tr>\n",
       "      <th>7</th>\n",
       "      <td>Tremarctos ornatus</td>\n",
       "      <td>140.700</td>\n",
       "      <td>NaN</td>\n",
       "      <td>NaN</td>\n",
       "    </tr>\n",
       "    <tr>\n",
       "      <th>8</th>\n",
       "      <td>Ursus maritimus</td>\n",
       "      <td>425.100</td>\n",
       "      <td>NaN</td>\n",
       "      <td>NaN</td>\n",
       "    </tr>\n",
       "  </tbody>\n",
       "</table>\n",
       "</div>"
      ],
      "text/plain": [
       "                  species     mass molecular_weight   GC\n",
       "0          Ursus spelaeus  550.800              NaN  NaN\n",
       "1            Ursus arctos  203.500              NaN  NaN\n",
       "2        Ursus thibetanus   99.714              NaN  NaN\n",
       "3        Melursus ursinus  100.030              NaN  NaN\n",
       "4        Ursus americanus  110.560              NaN  NaN\n",
       "5     Helarctos malayanus   47.020              NaN  NaN\n",
       "6  Ailuropoda melanoleuca  118.200              NaN  NaN\n",
       "7      Tremarctos ornatus  140.700              NaN  NaN\n",
       "8         Ursus maritimus  425.100              NaN  NaN"
      ]
     },
     "execution_count": 20,
     "metadata": {},
     "output_type": "execute_result"
    }
   ],
   "source": [
    "bears_df['molecular_weight'] = 'NaN' # adding molecular weight columm and assigning NaN values \n",
    "bears_df['GC'] = 'NaN' # adding molecular weight columm and assigning NaN values \n",
    "bears_df"
   ]
  },
  {
   "cell_type": "markdown",
   "metadata": {},
   "source": [
    "## 7 ##\n",
    "###### Write a for-loop that translates each sequence and also gets molecular weight and computes the GC content of each translated sequence and adds those data to DataFrame"
   ]
  },
  {
   "cell_type": "code",
   "execution_count": 21,
   "metadata": {},
   "outputs": [
    {
     "name": "stdout",
     "output_type": "stream",
     "text": [
      "                  species     mass molecular_weight       GC\n",
      "0          Ursus spelaeus  550.800          42458.8  43.7719\n",
      "1            Ursus arctos  203.500          42414.7  43.7719\n",
      "2        Ursus thibetanus   99.714          42306.7   45.614\n",
      "3        Melursus ursinus  100.030            42552  45.1754\n",
      "4        Ursus americanus  110.560          42427.7  43.9474\n",
      "5     Helarctos malayanus   47.020          42560.9  44.2982\n",
      "6  Ailuropoda melanoleuca  118.200          42702.2  40.7895\n",
      "7      Tremarctos ornatus  140.700          42384.8   44.386\n",
      "8         Ursus maritimus  425.100          42454.8  44.2982\n"
     ]
    },
    {
     "name": "stderr",
     "output_type": "stream",
     "text": [
      "C:\\Users\\jlwei\\AppData\\Local\\Continuum\\anaconda3\\lib\\site-packages\\ipykernel_launcher.py:6: FutureWarning: set_value is deprecated and will be removed in a future release. Please use .at[] or .iat[] accessors instead\n",
      "  \n",
      "C:\\Users\\jlwei\\AppData\\Local\\Continuum\\anaconda3\\lib\\site-packages\\ipykernel_launcher.py:7: FutureWarning: set_value is deprecated and will be removed in a future release. Please use .at[] or .iat[] accessors instead\n",
      "  import sys\n"
     ]
    }
   ],
   "source": [
    "index = 0 #creates index at 0\n",
    "for key,value in cytb_seqs.items():#for loop  through each key ,value to set cytb_seqs as a dictionary\n",
    "    aa_sequence = function_translate(str(value)) #translate DNA nucleotides into aminio acids\n",
    "    molecular_weight_cal = compute_molecular_weight(aa_sequence) # compute molecular weight\n",
    "    GC_cal = gc_content(str(value)) # compute gc content from the dna sequence - value\n",
    "    bears_df.set_value(index,'GC', GC_cal) # \n",
    "    bears_df.set_value(index,'molecular_weight', molecular_weight_cal)\n",
    "    index += 1 # #increase index by one to move foward to the next row in the next loop\n",
    "print(bears_df)  "
   ]
  },
  {
   "cell_type": "markdown",
   "metadata": {},
   "source": [
    "## 8 ##\n",
    "###### Plot a bar-chart of the mass with the x-axes labeled with species names.\n",
    "*Q1* What is the largest bear species?  \n",
    "*Q2* What else is interesting about this species?"
   ]
  },
  {
   "cell_type": "code",
   "execution_count": 22,
   "metadata": {},
   "outputs": [
    {
     "data": {
      "text/plain": [
       "Text(0.5,1,' Mass vs bear sp.')"
      ]
     },
     "execution_count": 22,
     "metadata": {},
     "output_type": "execute_result"
    },
    {
     "data": {
      "image/png": "[encoded data removed]",
      "text/plain": [
       "<Figure size 432x288 with 1 Axes>"
      ]
     },
     "metadata": {
      "needs_background": "light"
     },
     "output_type": "display_data"
    }
   ],
   "source": [
    "Fig1 = sns.barplot(x = 'species', y= 'mass', data = bears_df) # plot using seaborn\n",
    "Fig1.set_xticklabels(labels = bears_df.species, rotation= 90,)\n",
    "Fig1.set_title(' Mass vs bear sp.')\n",
    "#The largest bear species is Ursus Spelaeus.However, this is dependent on sample and age of specimen recorded\n",
    "#The bear is extinct! How was the mass obtained??"
   ]
  },
  {
   "cell_type": "markdown",
   "metadata": {},
   "source": [
    "## 9 ##\n",
    "###### Plot a visualization of the molecular weight (y-axis) as a function of GC-content (x-axis).\n"
   ]
  },
  {
   "cell_type": "code",
   "execution_count": 23,
   "metadata": {},
   "outputs": [
    {
     "name": "stderr",
     "output_type": "stream",
     "text": [
      "C:\\Users\\jlwei\\AppData\\Local\\Continuum\\anaconda3\\lib\\site-packages\\seaborn\\regression.py:546: UserWarning: The `size` paramter has been renamed to `height`; please update your code.\n",
      "  warnings.warn(msg, UserWarning)\n"
     ]
    },
    {
     "data": {
      "text/plain": [
       "<seaborn.axisgrid.FacetGrid at 0x2505cf4c668>"
      ]
     },
     "execution_count": 23,
     "metadata": {},
     "output_type": "execute_result"
    },
    {
     "data": {
      "image/png": "[encoded data removed]",
      "text/plain": [
       "<Figure size 697.125x360 with 1 Axes>"
      ]
     },
     "metadata": {
      "needs_background": "light"
     },
     "output_type": "display_data"
    }
   ],
   "source": [
    "sns.lmplot(\"GC\", \"molecular_weight\", data=bears_df, fit_reg=False, size=5,aspect=1.5, scatter_kws={'alpha':0.8,\"s\": 50}, hue='species', markers='P')"
   ]
  },
  {
   "cell_type": "markdown",
   "metadata": {},
   "source": [
    "## 10 ##\n",
    "###### Save the new DataFrame to a file called \"bears_mass_cytb.csv\"\n"
   ]
  },
  {
   "cell_type": "code",
   "execution_count": 24,
   "metadata": {},
   "outputs": [],
   "source": [
    "bears_df.to_csv('bears_mass_cytb.csv', sep=',',index=False, encoding='utf-8', )"
   ]
  },
  {
   "cell_type": "markdown",
   "metadata": {},
   "source": [
    "# BONUS\n",
    "\n",
    "#### I'm going to blast the cytb sequence of the largest bear species, `Ursus Spelaeus`"
   ]
  },
  {
   "cell_type": "code",
   "execution_count": 25,
   "metadata": {},
   "outputs": [],
   "source": [
    "from Bio.Blast import NCBIWWW\n",
    "from Bio import SeqIO"
   ]
  },
  {
   "cell_type": "markdown",
   "metadata": {},
   "source": [
    "##### blast and save result"
   ]
  },
  {
   "cell_type": "code",
   "execution_count": null,
   "metadata": {},
   "outputs": [],
   "source": [
    "seq_bank = get_sequences_from_file(\"bears_cytb.fasta\") # read data from bears_cytb.fasta\n",
    "query = seq_bank['Ursus spelaeus'] # get seq of Ursus spelaeus\n",
    "blast_file = open(\"cytb_blast.xml\", \"w\") # create an xml output file\n",
    "result_handle = NCBIWWW.qblast(\"blastn\",\"nt\",query)\n",
    "blast_result = result_handle.read()\n",
    "blast_file.write(blast_result) # write the blast result into xml file\n",
    "blast_file.close() # tidy up\n",
    "result_handle.close()"
   ]
  },
  {
   "cell_type": "markdown",
   "metadata": {},
   "source": [
    "##### read result from `xml`"
   ]
  },
  {
   "cell_type": "code",
   "execution_count": null,
   "metadata": {},
   "outputs": [],
   "source": [
    "from Bio.Blast import NCBIXML\n",
    "handle = open(\"cytb_blast.xml\")\n",
    "blast_record = NCBIXML.read(handle)\n",
    "for hit in blast_record.alignments:\n",
    "    for hsp in hit.hsps:\n",
    "        print(hit.title)\n",
    "        print(hsp.expect)\n",
    "        print(hsp.query[0:75] + '...')\n",
    "        print(hsp.match[0:75] + '...')\n",
    "        print(hsp.sbjct[0:75] + '...')"
   ]
  }
 ],
 "metadata": {
  "kernelspec": {
   "display_name": "Python 3",
   "language": "python",
   "name": "python3"
  },
  "language_info": {
   "codemirror_mode": {
    "name": "ipython",
    "version": 3
   },
   "file_extension": ".py",
   "mimetype": "text/x-python",
   "name": "python",
   "nbconvert_exporter": "python",
   "pygments_lexer": "ipython3",
   "version": "3.7.0"
  }
 },
 "nbformat": 4,
 "nbformat_minor": 2
}
